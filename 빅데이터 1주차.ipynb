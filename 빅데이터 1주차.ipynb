{
 "cells": [
  {
   "cell_type": "markdown",
   "id": "4506efba-24b5-4ffd-bc9c-50ccdb8e356c",
   "metadata": {},
   "source": [
    "# 파이썬이란?\n",
    "- 1991년 네덜란드 소프트웨어 엔지니어 귀도 반 로섬이 발표한 고급 프로그래밍 언어\n",
    "- 인터프리터를 사용하는 객체지향언어\n",
    "- 데이터 분석, 웹 개발, 인공지능 등 다양한 분야에 활용"
   ]
  },
  {
   "cell_type": "markdown",
   "id": "049638c0-0965-4fe0-a9ad-15c31ea70559",
   "metadata": {},
   "source": [
    "## 파이썬 사용 방법\n",
    "- 파이썬 IDLE(파이썬을 설치하면 기본적으로 제공하는 개발 환경)\n",
    "- 아나콘다(주피터 노트북이 대표적이며 많은 라이브러리를 한 번에 설치할 수 있어 효과적이지만 프로그램이 무겁다.)\n",
    "- 통합 개발 환경(파이참 등이 대표적이며 코드 작성 시 오류를 체크해주는 기능을 사용할 수 있어 편리하다.)\n",
    "- 구글 코랩(구글로부터 가상의 컴퓨터를 제공 받아 인터넷만 연결되어 있으면 사용 가능하다.)"
   ]
  },
  {
   "cell_type": "markdown",
   "id": "77465ef3-c971-448b-9def-d8a248b1fd5f",
   "metadata": {},
   "source": [
    "### 주피터 노트북 사용 방법\n",
    "- https://www.anaconda.com/ 에서 아나콘다를 다운 받아서 사용 가능하다.\n",
    "- 파일을 원하는 경로에 저장하고 싶을 때는 anaconda prompt를 실행하여 경로를 지정할 수 있다.\n",
    "- new -> notebook을 통해 ipynb파일을 만들고 셀을 추가하거나 삭제하여 코드를 작성할 수 있다."
   ]
  },
  {
   "cell_type": "markdown",
   "id": "476138b5-6ca1-4016-af38-b6397f101d1f",
   "metadata": {},
   "source": [
    "# 파이썬의 기본적인 문법들"
   ]
  },
  {
   "cell_type": "markdown",
   "id": "70d9451c-da97-43ef-a8c2-c63c5ee52063",
   "metadata": {},
   "source": [
    "## 들여쓰기\n",
    "- 코드 블럭을 표현하기 위해 사용하며 보통 스페이스 4칸이나 탭을 사용한다.\n",
    "- 보통 for, while, if문에서 들여쓰기를 많이 사용한다."
   ]
  },
  {
   "cell_type": "code",
   "execution_count": 1,
   "id": "dd6eb298-5628-4f74-b214-0a211b521347",
   "metadata": {},
   "outputs": [
    {
     "name": "stdout",
     "output_type": "stream",
     "text": [
      "0\n",
      "1\n",
      "2\n",
      "3\n",
      "4\n",
      "5\n",
      "6\n",
      "7\n",
      "8\n",
      "9\n"
     ]
    }
   ],
   "source": [
    "# 들여쓰기\n",
    "for i in range(10):\n",
    "    print(i) "
   ]
  },
  {
   "cell_type": "markdown",
   "id": "8369ba5a-3e51-465f-9543-867d9ff1f1e9",
   "metadata": {},
   "source": [
    "## 주석\n",
    "- 주석문은 코드 실행 시 실행되지 않는다.\n",
    "- 코드 설명이나 코드 검사 시 주로 사용한다.\n",
    "- #은 한 줄 주석이며 따옴표 3개는 여러 줄 주석이다.(여러 줄 주석은 보통 Docstring을 작성하는 기능이기에 여러 줄 주석을 처리할 때도 #을 사용하는 것이 좋다.)\n",
    "- ※Docstring : 모듈, 함수, 클래스 등을 정의할 때 작성하는 설명을 의미"
   ]
  },
  {
   "cell_type": "code",
   "execution_count": 4,
   "id": "2b44942b-a645-4571-b5fa-a4ca68174729",
   "metadata": {},
   "outputs": [
    {
     "data": {
      "text/plain": [
       "'안녕하세요\\n저는 홍길동입니다.'"
      ]
     },
     "execution_count": 4,
     "metadata": {},
     "output_type": "execute_result"
    }
   ],
   "source": [
    "# 한 줄 주석입니다.\n",
    "\n",
    "'''안녕하세요\n",
    "저는 홍길동입니다.'''"
   ]
  },
  {
   "cell_type": "markdown",
   "id": "1d51aa00-0f16-4646-8c9f-576475921e13",
   "metadata": {},
   "source": [
    "# 파이썬의 기초"
   ]
  },
  {
   "cell_type": "markdown",
   "id": "5d52ad6f-9e59-4e1b-8d52-3bd9aa185bce",
   "metadata": {},
   "source": [
    "## 변수\n",
    "- 변수는 데이터를 저장하는 컴퓨터의 메모리 공간을 의미한다.\n",
    "- 파이썬에서는 변수를 미리 정의하지 않으며 변수 앞에 data type을 정의하지 않는다.\n",
    "- 동시에 여러 변수에 값을 할당 할 수 있다.\n",
    "- print함수를 통해 변수에 저장되어 있는 값을 출력할 수 있다."
   ]
  },
  {
   "cell_type": "markdown",
   "id": "f2620861-58bd-4e67-a3e2-e5510342cd2a",
   "metadata": {},
   "source": [
    "### 변수명 규칙\n",
    "- 숫자와 영문자, 언더바(_)만을 사용하며 대소문자를 구별한다.\n",
    "- 공백은 사용할 수 없다.(공백 대신 언더바를 주로 사용한다.)\n",
    "- 숫자는 사용할 수 있지만 맨 앞에는 사용할 수 없다.\n",
    "- 특수문자를 사용할 수 없다.(언더바 제외)\n",
    "- 파이썬의 예약어는 사용할 수 없다.(if, else, print, input 등)\n",
    "- 보통 의미가 있는 영단어를 변수명으로 한다.(너무 길면 줄인다.)"
   ]
  },
  {
   "cell_type": "code",
   "execution_count": 6,
   "id": "935de234-9f99-47e4-ad2f-9928a0868da8",
   "metadata": {},
   "outputs": [
    {
     "name": "stdout",
     "output_type": "stream",
     "text": [
      "3\n"
     ]
    }
   ],
   "source": [
    "a = 1\n",
    "b = 2\n",
    "# %c => 불가능\n",
    "# a b => 불가능\n",
    "# 1ab => 불가능"
   ]
  },
  {
   "cell_type": "markdown",
   "id": "1660de5c-bf13-402b-85ec-c3fd45ae2e61",
   "metadata": {},
   "source": [
    "### 변수에 문자 할당\n",
    "- 숫자와 비슷하게 따옴표를 사용하여 할당 할 수 있다.\n",
    "- input함수를 사용하면 사용자에게 입력받은 값을 변수에 할당 할 수 있다.(input함수로 받은 값은 모두 문자열의 형태로 저장된다.)"
   ]
  },
  {
   "cell_type": "code",
   "execution_count": 7,
   "id": "99036f58-48f8-4ac7-848c-6587841ea6b2",
   "metadata": {},
   "outputs": [
    {
     "name": "stdin",
     "output_type": "stream",
     "text": [
      "학교 명을 입력하세요. TUK\n"
     ]
    },
    {
     "name": "stdout",
     "output_type": "stream",
     "text": [
      "TUK TUK\n"
     ]
    }
   ],
   "source": [
    "a = \"TUK\"\n",
    "b = input(\"학교 명을 입력하세요.\")\n",
    "print(a, b)"
   ]
  },
  {
   "cell_type": "code",
   "execution_count": 11,
   "id": "940d79ee-2a7a-435f-90d3-0515f9ab2af5",
   "metadata": {},
   "outputs": [
    {
     "name": "stdin",
     "output_type": "stream",
     "text": [
      "정수를 입력해주세요 :  1\n"
     ]
    },
    {
     "name": "stdout",
     "output_type": "stream",
     "text": [
      "<class 'str'>\n"
     ]
    },
    {
     "name": "stdin",
     "output_type": "stream",
     "text": [
      "정수를 입력해주세요 :  10\n"
     ]
    },
    {
     "name": "stdout",
     "output_type": "stream",
     "text": [
      "<class 'int'>\n"
     ]
    },
    {
     "name": "stdin",
     "output_type": "stream",
     "text": [
      "실수를 입력해주세요 :  10.3\n"
     ]
    },
    {
     "name": "stdout",
     "output_type": "stream",
     "text": [
      "10\n"
     ]
    }
   ],
   "source": [
    "num = input(\"정수를 입력해주세요 : \")\n",
    "print(type(num))\n",
    "\n",
    "# 입력받은 값을 정수로 저장하고 싶으면 int()함수를 사용해서 형변환을 해줘야한다.\n",
    "num = int(input(\"정수를 입력해주세요 : \"))\n",
    "print(int)\n",
    "\n",
    "# 입력받은 실수를 정수를 변환하여 저장하고 싶으면 문자형을 float형으로 바꾼 후 int형으로 바꿔줘야한다.\n",
    "# 바로 int형으로 바꾸려고 하면 에러가 발생한다.\n",
    "\n",
    "# flo = int(input(\"실수를 입력해주세요 : \"))\n",
    "# print(flo) / ValueError: invalid literal for int() with base 10: '10.3'\n",
    "\n",
    "flo = int(float(input(\"실수를 입력해주세요 : \")))\n",
    "print(flo)"
   ]
  },
  {
   "cell_type": "markdown",
   "id": "64b9bc24-bb53-4b9c-9bc3-a6872aa764b9",
   "metadata": {},
   "source": [
    "### 여러 변수에 값 한 번에 할당하기\n",
    "- 변수1, 변수2 = 값1, 값2의 형태로 여러 변수에 값을 한 번에 할당할 수 있다.\n",
    "- split()함수로 구분자(기본값은 공백이다.)를 기준으로 나눠줄 수 있다.\n",
    "- map()함수를 사용하면 split()으로 나눠준 조각의 data type을 지정해 줄 수 있다."
   ]
  },
  {
   "cell_type": "code",
   "execution_count": 14,
   "id": "692e8b6b-7ffa-4ef8-8764-92e197103414",
   "metadata": {},
   "outputs": [
    {
     "name": "stdout",
     "output_type": "stream",
     "text": [
      "1 2\n"
     ]
    },
    {
     "name": "stdin",
     "output_type": "stream",
     "text": [
      "이름과 나이를 입력해주세요 :  홍길동 20\n"
     ]
    },
    {
     "name": "stdout",
     "output_type": "stream",
     "text": [
      "홍길동 20\n"
     ]
    },
    {
     "name": "stdin",
     "output_type": "stream",
     "text": [
      "정수를 두 개 입력해주세요 :  1 2\n"
     ]
    },
    {
     "name": "stdout",
     "output_type": "stream",
     "text": [
      "1 2\n"
     ]
    }
   ],
   "source": [
    "num1, num2 = 1, 2\n",
    "print(num1, num2)\n",
    "\n",
    "str1, str2 = input(\"이름과 나이를 입력해주세요 : \").split()\n",
    "print(str1, str2)\n",
    "\n",
    "num1, num2 = map(int, input(\"정수를 두 개 입력해주세요 : \").split())\n",
    "print(num1, num2)"
   ]
  },
  {
   "cell_type": "markdown",
   "id": "d5b133dd-9d22-4a6d-b10e-08f1bc80ea11",
   "metadata": {},
   "source": [
    "## Data type\n",
    "- 파이썬에는 여러 data type이 있다.\n",
    "- 형변환 등 여러 상황에 쓰이기에 알아두는 것이 좋다."
   ]
  },
  {
   "cell_type": "markdown",
   "id": "23aaa303-7342-4ab7-8fb8-4b05af2e77a9",
   "metadata": {},
   "source": [
    "### 숫자형\n",
    "- 정수형(소수점이 없는 수를 뜻하며 int로 표현한다.)\n",
    "- 실수형(소수점이 있는 수를 뜻하며 float로 표현한다.)\n",
    "- 복소수형(허수 부분이 있는 수를 뜻하면 complex로 표현한다.)\n",
    "\n",
    "- 숫자형끼리는 연산이 가능하며 자료형이 다를 경우 폭이 더 넓은 자료형으로 변환된다."
   ]
  },
  {
   "cell_type": "code",
   "execution_count": 15,
   "id": "5e19582f-f4cc-46c7-bf80-144d61fa789d",
   "metadata": {},
   "outputs": [
    {
     "name": "stdout",
     "output_type": "stream",
     "text": [
      "1 <class 'int'>\n",
      "2.1 <class 'float'>\n",
      "(4+2j) <class 'complex'>\n"
     ]
    }
   ],
   "source": [
    "int_num = 1\n",
    "float_num = 2.1\n",
    "complex_num = 4 + 2j\n",
    "\n",
    "print(int_num, type(int_num))\n",
    "print(float_num, type(float_num))\n",
    "print(complex_num, type(complex_num))"
   ]
  },
  {
   "cell_type": "code",
   "execution_count": 20,
   "id": "9d84278d-fb8d-4c85-892b-6dfcfe3d758d",
   "metadata": {},
   "outputs": [
    {
     "name": "stdout",
     "output_type": "stream",
     "text": [
      "2\n",
      "0\n",
      "1\n",
      "1.0\n",
      "1\n",
      "0\n",
      "1\n"
     ]
    }
   ],
   "source": [
    "print(int_num + int_num)\n",
    "print(int_num - int_num)\n",
    "print(int_num * int_num)\n",
    "print(int_num / int_num) # 나누기\n",
    "print(int_num // int_num) # 몫\n",
    "print(int_num % int_num) # 나머지\n",
    "print(int_num ** int_num) # 거듭제곱"
   ]
  },
  {
   "cell_type": "code",
   "execution_count": 17,
   "id": "20a02d0e-3a74-4c94-9a7c-377d68e8f603",
   "metadata": {},
   "outputs": [
    {
     "name": "stdout",
     "output_type": "stream",
     "text": [
      "3.1\n",
      "(5+2j)\n",
      "(6.1+2j)\n"
     ]
    }
   ],
   "source": [
    "print(int_num + float_num)\n",
    "print(int_num + complex_num)\n",
    "print(float_num + complex_num)"
   ]
  },
  {
   "cell_type": "markdown",
   "id": "435fbe42-fe8f-4c75-87e6-2897537fb83b",
   "metadata": {},
   "source": [
    "### 문자형\n",
    "- 말 그대로 문자를 나타내며 string으로 표현한다.(줄여서 str이라고 주로 표현한다.)\n",
    "- 문자형을 더하거나 곱하면 연산이 아닌 연결이 된다.\n",
    "- 문자열은 시퀀스 자료형으로 순서가 있어 인덱싱과 슬라이싱이 가능하다."
   ]
  },
  {
   "cell_type": "code",
   "execution_count": 16,
   "id": "73ae86ed-7321-4778-bd32-f8c746ecfa01",
   "metadata": {},
   "outputs": [
    {
     "name": "stdout",
     "output_type": "stream",
     "text": [
      "안녕하세요\n"
     ]
    }
   ],
   "source": [
    "# 문자형 변수 선언 및 할당\n",
    "str_va = \"안녕하세요\"\n",
    "print(str_va)"
   ]
  },
  {
   "cell_type": "code",
   "execution_count": 19,
   "id": "d2212c4d-d804-4511-b9ad-647241539362",
   "metadata": {},
   "outputs": [
    {
     "name": "stdout",
     "output_type": "stream",
     "text": [
      "안녕하세요안녕하세요\n",
      "안녕하세요안녕하세요안녕하세요\n"
     ]
    }
   ],
   "source": [
    "# 문자형 변수의 연결\n",
    "print(str_va + str_va)\n",
    "print(str_va * 3)"
   ]
  },
  {
   "cell_type": "code",
   "execution_count": 21,
   "id": "d3eefdba-6551-40b4-953b-8d2d27a8d440",
   "metadata": {},
   "outputs": [
    {
     "name": "stdout",
     "output_type": "stream",
     "text": [
      "안 요\n",
      "안하요\n"
     ]
    }
   ],
   "source": [
    "# 문자형 변수의 인덱싱과 슬라이싱\n",
    "print(str_va[0], str_va[-1]) # 인덱스 번호는 0부터 시작하며 맨 끝은 -1로도 나타낼 수 있다.(맨 끝에서 왼쪽은 -2로 나타내는 식이다.)\n",
    "print(str_va[0:5:2]) # 인덱스 번호와 콜론을 사용하여 범위를 지정하여 출력할 수도 있다.(이때 start : stop : step으로 범위를 지정할 수 있다.)"
   ]
  },
  {
   "cell_type": "markdown",
   "id": "a615c6ae-e3ad-43ba-907d-39c146ae77a5",
   "metadata": {},
   "source": [
    "### 문자열 포맷팅\n",
    "- 문자열과 변수를 한 번에 출력하기 위해 사용한다.\n",
    "- 서식 문자를 사용하는 방법, format함수를 사용한 포맷팅, f-string을 사용한 포맷팅이 있다."
   ]
  },
  {
   "cell_type": "code",
   "execution_count": 29,
   "id": "8087df71-76e1-4151-af85-2e31a8f10b3b",
   "metadata": {},
   "outputs": [
    {
     "name": "stdout",
     "output_type": "stream",
     "text": [
      "안녕하세요! 저는 20 살입니다.\n"
     ]
    }
   ],
   "source": [
    "# 서식 문자를 사용하여 포맷팅\n",
    "str_va = \"안녕하세요!\"\n",
    "num_va = 20\n",
    "print(\"%s 저는 %d 살입니다.\" %(str_va, num_va))"
   ]
  },
  {
   "cell_type": "code",
   "execution_count": 32,
   "id": "f0e94d66-9205-4614-9c67-b9e9fcff1bc7",
   "metadata": {},
   "outputs": [
    {
     "name": "stdout",
     "output_type": "stream",
     "text": [
      "안녕하세요! 저는 20살입니다.\n",
      "20 저는 안녕하세요!살입니다.\n",
      "안녕하세요! 저는 20살입니다.\n"
     ]
    }
   ],
   "source": [
    "# format함수를 사용한 포맷팅\n",
    "str_va = \"안녕하세요!\"\n",
    "num_va = 20\n",
    "print(\"{} 저는 {}살입니다.\".format(str_va, num_va))\n",
    "\n",
    "# 순서를 지정할 수 있다.\n",
    "print(\"{1} 저는 {0}살입니다.\".format(str_va, num_va))\n",
    "\n",
    "# 별칭을 지정할 수 있다.\n",
    "print(\"{name} 저는 {age}살입니다.\".format(name = str_va, age = num_va))"
   ]
  },
  {
   "cell_type": "code",
   "execution_count": 34,
   "id": "76cb42d0-79d2-4528-8b4a-cc94a8c44362",
   "metadata": {},
   "outputs": [
    {
     "name": "stdout",
     "output_type": "stream",
     "text": [
      "안녕하세요! 저는 20살입니다.\n"
     ]
    }
   ],
   "source": [
    "# f-string을 사용한 포맷팅\n",
    "str_va = \"안녕하세요!\"\n",
    "num_va = 20\n",
    "print(f\"{str_va} 저는 {num_va}살입니다.\")"
   ]
  },
  {
   "cell_type": "markdown",
   "id": "4d462d2b-5fe8-441d-8de7-259f29b9417e",
   "metadata": {},
   "source": [
    "### 문자열 내장 함수\n",
    "- count : 문자열의 개수 파악\n",
    "- find : 특정 문자 위치 파악(인덱스 번호를 알려주고 특정 문자가 여러개 있을 시 첫 문자 위치를 알려줌)\n",
    "- capitalize : 첫 문자를 대문자로 바꿔줌.\n",
    "- upper / lower : 모든 문자를 대문자 / 소문자로 바꿔줌.\n",
    "- replace : 특정 문자를 다른 문자로 바꿔줌.\n",
    "- split : 구분자를 기준으로 문자를 쪼개줌.\n",
    "- strip : 문자열에서 주어진 문자를 삭제해줌."
   ]
  },
  {
   "cell_type": "code",
   "execution_count": 39,
   "id": "5bbdb17c-0087-4207-91c0-388576255d47",
   "metadata": {},
   "outputs": [],
   "source": [
    "str_va = \"하하하하하\""
   ]
  },
  {
   "cell_type": "code",
   "execution_count": 40,
   "id": "6541e266-2218-4dc5-afe0-3e85818d9849",
   "metadata": {},
   "outputs": [
    {
     "data": {
      "text/plain": [
       "5"
      ]
     },
     "execution_count": 40,
     "metadata": {},
     "output_type": "execute_result"
    }
   ],
   "source": [
    "# count함수\n",
    "str_va.count(\"하\")"
   ]
  },
  {
   "cell_type": "code",
   "execution_count": 41,
   "id": "c4b1f792-f180-4819-bc12-1a386dc5f2d3",
   "metadata": {},
   "outputs": [
    {
     "data": {
      "text/plain": [
       "0"
      ]
     },
     "execution_count": 41,
     "metadata": {},
     "output_type": "execute_result"
    }
   ],
   "source": [
    "# find함수\n",
    "str_va.find(\"하\")"
   ]
  },
  {
   "cell_type": "code",
   "execution_count": 45,
   "id": "ec2a30c8-78ee-4a7f-9965-601bd7a1b1b5",
   "metadata": {},
   "outputs": [
    {
     "data": {
      "text/plain": [
       "'Capitalize'"
      ]
     },
     "execution_count": 45,
     "metadata": {},
     "output_type": "execute_result"
    }
   ],
   "source": [
    "# capitalize함수\n",
    "str_va = \"capitalize\"\n",
    "str_va.capitalize()"
   ]
  },
  {
   "cell_type": "code",
   "execution_count": 48,
   "id": "353a6d05-9134-4f78-b8c7-422462a60288",
   "metadata": {},
   "outputs": [
    {
     "name": "stdout",
     "output_type": "stream",
     "text": [
      "UPPER AND LOWER\n",
      "upper and lower\n"
     ]
    }
   ],
   "source": [
    "# upper / lower 함수\n",
    "str_va = \"upper and lower\"\n",
    "print(str_va.upper())\n",
    "print(str_va.lower())"
   ]
  },
  {
   "cell_type": "code",
   "execution_count": 50,
   "id": "b5b06ce3-001a-42b7-9eff-fa2cece072ee",
   "metadata": {},
   "outputs": [
    {
     "name": "stdout",
     "output_type": "stream",
     "text": [
      "replace\n"
     ]
    }
   ],
   "source": [
    "# replace 함수\n",
    "str_va = \"replade\"\n",
    "print(str_va.replace(\"d\", \"c\"))"
   ]
  },
  {
   "cell_type": "code",
   "execution_count": 53,
   "id": "6b53d30d-d22a-480a-8cbb-76dbe966e50d",
   "metadata": {},
   "outputs": [
    {
     "name": "stdout",
     "output_type": "stream",
     "text": [
      "안녕하세요\n",
      "홍길동입니다.\n",
      "바나나\n",
      "사과\n",
      "포도\n"
     ]
    }
   ],
   "source": [
    "# split 함수\n",
    "str_va = \"안녕하세요 홍길동입니다.\"\n",
    "str1, str2 = str_va.split() # 기본값은 공백, 구분자를 정할 수 있다.\n",
    "print(str1)\n",
    "print(str2)\n",
    "\n",
    "# 구분자를 정하는 예시\n",
    "str_va = \"바나나, 사과, 포도\"\n",
    "str1, str2, str3 = str_va.split(\", \")\n",
    "print(str1)\n",
    "print(str2)\n",
    "print(str3)"
   ]
  },
  {
   "cell_type": "code",
   "execution_count": 55,
   "id": "b183c117-9cad-453c-96b0-6a494de8346c",
   "metadata": {},
   "outputs": [
    {
     "name": "stdout",
     "output_type": "stream",
     "text": [
      "안녕하세요.\n"
     ]
    }
   ],
   "source": [
    "# strip함수\n",
    "str1 = \"****안녕하세요.****\"\n",
    "after_strip = str1.strip(\"*\")\n",
    "print(after_strip)"
   ]
  }
 ],
 "metadata": {
  "kernelspec": {
   "display_name": "Python 3 (ipykernel)",
   "language": "python",
   "name": "python3"
  },
  "language_info": {
   "codemirror_mode": {
    "name": "ipython",
    "version": 3
   },
   "file_extension": ".py",
   "mimetype": "text/x-python",
   "name": "python",
   "nbconvert_exporter": "python",
   "pygments_lexer": "ipython3",
   "version": "3.11.7"
  }
 },
 "nbformat": 4,
 "nbformat_minor": 5
}
